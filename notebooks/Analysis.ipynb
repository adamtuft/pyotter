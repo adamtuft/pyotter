{
 "cells": [
  {
   "cell_type": "markdown",
   "id": "508bb012-0764-4f3c-a6f6-dc7c09940cae",
   "metadata": {},
   "source": [
    "# Setup"
   ]
  },
  {
   "cell_type": "code",
   "execution_count": null,
   "id": "77c7dc58-c7d4-42f5-94be-70a77124d483",
   "metadata": {},
   "outputs": [],
   "source": [
    "anchorfile = \"~/work/experiments/bots-strassen/trace/1024.47356/1024.47356.otf2\""
   ]
  },
  {
   "cell_type": "code",
   "execution_count": null,
   "id": "7df3b2ad-18bf-4e4c-bee8-66e97c08f33b",
   "metadata": {},
   "outputs": [],
   "source": [
    "import pandas as pd\n",
    "import otter\n",
    "otter.log.initialise(\"debug\")\n",
    "reader = otter.project.ReadTraceData(anchorfile).connect()\n",
    "reader.count_simulation_rows()"
   ]
  },
  {
   "cell_type": "markdown",
   "id": "a378c142-c42f-43f6-beca-6d26d7796a19",
   "metadata": {
    "jp-MarkdownHeadingCollapsed": true
   },
   "source": [
    "# Simulate"
   ]
  },
  {
   "cell_type": "code",
   "execution_count": null,
   "id": "bba58b41-1052-4699-bc94-deca546a2eda",
   "metadata": {},
   "outputs": [],
   "source": [
    "if reader.count_simulations() == 0:\n",
    "    otter.log.initialise(\"info\")\n",
    "    otter.project.simulate_schedule(anchorfile)\n",
    "    otter.log.initialise(\"debug\")\n",
    "else:\n",
    "    print(\"Already simulated\")"
   ]
  },
  {
   "cell_type": "markdown",
   "id": "39673c5d-6fe1-4805-b15a-50df9b1dae24",
   "metadata": {},
   "source": [
    "# Query"
   ]
  },
  {
   "cell_type": "code",
   "execution_count": null,
   "id": "9b52d599-34b6-4c74-a582-e6fdd096cad0",
   "metadata": {},
   "outputs": [],
   "source": [
    "reader.count_simulation_rows()"
   ]
  },
  {
   "cell_type": "code",
   "execution_count": null,
   "id": "661e70f1-1541-4c0f-b997-2dd60b9d9d21",
   "metadata": {},
   "outputs": [],
   "source": [
    "critical_tasks = reader.get_tasks(reader.get_critical_tasks(sim_id=0))\n",
    "print([task.id for task in critical_tasks])"
   ]
  },
  {
   "cell_type": "code",
   "execution_count": null,
   "id": "b720dde8-27c7-4c68-9d23-b7c361eb5ecc",
   "metadata": {},
   "outputs": [],
   "source": [
    "tasks = pd.DataFrame((task.asdict(flatten=True) for task in critical_tasks))\n",
    "min_time = tasks[\"create_ts\"].astype(int).min()\n",
    "tasks[\"create_ts\"] = tasks[\"create_ts\"].astype(int) - min_time\n",
    "tasks[\"start_ts\"] = tasks[\"start_ts\"].astype(int) - min_time\n",
    "tasks[\"end_ts\"] = tasks[\"end_ts\"].astype(int) - min_time"
   ]
  },
  {
   "cell_type": "code",
   "execution_count": null,
   "id": "50580007-a6f1-4ef7-b3a4-21a0fe57bc25",
   "metadata": {},
   "outputs": [],
   "source": [
    "tasks.head(3)"
   ]
  },
  {
   "cell_type": "code",
   "execution_count": null,
   "id": "c602e62b-430f-4b88-b409-5773210ecca7",
   "metadata": {},
   "outputs": [],
   "source": [
    "scheduling_states = reader.get_task_scheduling_states([task.id for task in critical_tasks])\n",
    "states = pd.DataFrame((state.asdict() for state in scheduling_states))\n",
    "min_time = states[\"start_ts\"].astype(int).min()\n",
    "states[\"start_ts\"] = states[\"start_ts\"].astype(int) - min_time\n",
    "states[\"end_ts\"] = states[\"end_ts\"].astype(int) - min_time\n",
    "states.head(8)"
   ]
  },
  {
   "cell_type": "code",
   "execution_count": null,
   "id": "83db65b1-f02d-487b-a7b1-fe3554512721",
   "metadata": {},
   "outputs": [],
   "source": [
    "scheduling_states_sim = reader.get_task_scheduling_states([task.id for task in critical_tasks], sim_id=0)\n",
    "states_sim = pd.DataFrame((state.asdict() for state in scheduling_states_sim))\n",
    "states_sim[\"start_ts\"] = states_sim[\"start_ts\"].astype(int)\n",
    "states_sim[\"end_ts\"] = states_sim[\"end_ts\"].astype(int)\n",
    "states_sim.head(3)"
   ]
  },
  {
   "cell_type": "markdown",
   "id": "429b8af4-c38d-43ae-9c4e-fab7f99dd817",
   "metadata": {},
   "source": [
    "# Plot Gantt Chart"
   ]
  },
  {
   "cell_type": "code",
   "execution_count": null,
   "id": "ed602783-df17-4810-be04-3d783d470db1",
   "metadata": {},
   "outputs": [],
   "source": [
    "import matplotlib.pyplot as plt\n",
    "\n",
    "COLOUR_ACTIVE = (0,0,1)       # blue\n",
    "COLOUR_INACTIVE = (0.8627,)*3 # grey\n",
    "\n",
    "action_colour = {\n",
    "    \"CREATE\": COLOUR_INACTIVE,\n",
    "    \"START\": COLOUR_ACTIVE,\n",
    "    \"SUSPEND\": COLOUR_INACTIVE,\n",
    "    \"RESUME\": COLOUR_ACTIVE,\n",
    "}"
   ]
  },
  {
   "cell_type": "markdown",
   "id": "91ba121f-1914-4ecb-9c48-5f0710b91461",
   "metadata": {},
   "source": [
    "## Plot scheduling states of native & simulated schedules"
   ]
  },
  {
   "cell_type": "code",
   "execution_count": null,
   "id": "753ce733-7fbb-4f9e-ae15-19e5e57506d5",
   "metadata": {},
   "outputs": [],
   "source": [
    "def plot_task_scheduling_states(tasks, states):\n",
    "\n",
    "    fig, ax = plt.subplots()\n",
    "    \n",
    "    # plot tasks in the order they start:\n",
    "    start_ts_df = tasks.sort_values(\"start_ts\")[[\"id\"]]\n",
    "    \n",
    "    task_labels = []\n",
    "    yticks = []\n",
    "    for index, task_id in enumerate(start_ts_df[\"id\"]):\n",
    "        task_labels.append(task_id)\n",
    "        yticks.append(index+1.25)\n",
    "        task_rows = states[states[\"task\"]==task_id]\n",
    "        xranges = [_ for _ in zip(task_rows[\"start_ts\"].to_list(), task_rows[\"duration\"].to_list(), strict=True)]\n",
    "        colours = [action_colour[action] for action in task_rows[\"action_start\"]]\n",
    "        assert len(task_rows) == len(colours)\n",
    "        colours = tuple(action_colour[action] for action in task_rows['action_start'])\n",
    "        ax.broken_barh(xranges=xranges, yrange=(index+1, 0.5), facecolors=colours)\n",
    "    \n",
    "    ax.set_yticks(yticks)\n",
    "    ax.set_yticklabels(task_labels)\n",
    "    \n",
    "    plt.gca().invert_yaxis()"
   ]
  },
  {
   "cell_type": "code",
   "execution_count": null,
   "id": "5c35eacd-6106-4492-92a2-9034e37426fb",
   "metadata": {},
   "outputs": [],
   "source": [
    "plot_task_scheduling_states(tasks, states)"
   ]
  },
  {
   "cell_type": "code",
   "execution_count": null,
   "id": "592846d4-5a02-4030-a664-523778ed35fc",
   "metadata": {},
   "outputs": [],
   "source": [
    "plot_task_scheduling_states(tasks, states_sim)"
   ]
  }
 ],
 "metadata": {
  "kernelspec": {
   "display_name": "Python 3 (ipykernel)",
   "language": "python",
   "name": "python3"
  },
  "language_info": {
   "codemirror_mode": {
    "name": "ipython",
    "version": 3
   },
   "file_extension": ".py",
   "mimetype": "text/x-python",
   "name": "python",
   "nbconvert_exporter": "python",
   "pygments_lexer": "ipython3",
   "version": "3.11.8"
  }
 },
 "nbformat": 4,
 "nbformat_minor": 5
}
